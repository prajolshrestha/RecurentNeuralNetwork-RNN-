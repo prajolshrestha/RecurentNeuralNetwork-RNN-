{
  "nbformat": 4,
  "nbformat_minor": 0,
  "metadata": {
    "colab": {
      "provenance": [],
      "toc_visible": true,
      "authorship_tag": "ABX9TyM909Q8lRjVI4IAoTlSWT0i"
    },
    "kernelspec": {
      "name": "python3",
      "display_name": "Python 3"
    },
    "language_info": {
      "name": "python"
    }
  },
  "cells": [
    {
      "cell_type": "code",
      "execution_count": 10,
      "metadata": {
        "id": "2tUkJTAFxphL"
      },
      "outputs": [],
      "source": [
        "import tensorflow as tf\n",
        "\n",
        "from tensorflow.keras.layers import Input, Dense, Flatten, LSTM\n",
        "from tensorflow.keras.models import Model\n",
        "from tensorflow.keras.optimizers import Adam\n",
        "\n",
        "import pandas as pd\n",
        "import numpy as np\n",
        "import matplotlib.pyplot as plt"
      ]
    },
    {
      "cell_type": "markdown",
      "source": [
        "# Dataset"
      ],
      "metadata": {
        "id": "KBCP1iUO-18Q"
      }
    },
    {
      "cell_type": "code",
      "source": [
        "\n",
        "dataset = tf.keras.datasets.mnist\n",
        "\n",
        "(x_train,y_train),(x_test,y_test) = dataset.load_data()\n",
        "x_train,x_test = x_train/255.0, x_test/255.0"
      ],
      "metadata": {
        "id": "VqKl5EvAyB4I"
      },
      "execution_count": 19,
      "outputs": []
    },
    {
      "cell_type": "code",
      "source": [
        "x_train.shape, x_test.shape #NxTxD"
      ],
      "metadata": {
        "colab": {
          "base_uri": "https://localhost:8080/"
        },
        "id": "kpJONv6mzszF",
        "outputId": "ff4721e7-6d36-4a90-f91c-43a40e57bb7f"
      },
      "execution_count": 20,
      "outputs": [
        {
          "output_type": "execute_result",
          "data": {
            "text/plain": [
              "((60000, 28, 28), (10000, 28, 28))"
            ]
          },
          "metadata": {},
          "execution_count": 20
        }
      ]
    },
    {
      "cell_type": "markdown",
      "source": [
        "#Model instantiate"
      ],
      "metadata": {
        "id": "wCcO2F2D-5nr"
      }
    },
    {
      "cell_type": "code",
      "source": [
        "i = Input(shape=x_train[0].shape)\n",
        "x = LSTM(128)(i)\n",
        "x = Dense(10, activation='softmax')(x)\n",
        "model = Model(i,x)"
      ],
      "metadata": {
        "id": "gvIVaJHRz0Gv"
      },
      "execution_count": 27,
      "outputs": []
    },
    {
      "cell_type": "code",
      "source": [
        "model.compile(optimizer='adam',\n",
        "              loss='sparse_categorical_crossentropy',metrics=['accuracy'])"
      ],
      "metadata": {
        "id": "y2lvyPTn0wzs"
      },
      "execution_count": 28,
      "outputs": []
    },
    {
      "cell_type": "markdown",
      "source": [
        "#Fit and plot"
      ],
      "metadata": {
        "id": "y55s9Oyj_GFJ"
      }
    },
    {
      "cell_type": "code",
      "source": [
        "r = model.fit(x_train,y_train, validation_data=(x_test,y_test), epochs=10)"
      ],
      "metadata": {
        "colab": {
          "base_uri": "https://localhost:8080/"
        },
        "id": "YDNEKGFF1VUB",
        "outputId": "2ef978ea-0e89-46c1-ab23-8ff50cceeee6"
      },
      "execution_count": 29,
      "outputs": [
        {
          "output_type": "stream",
          "name": "stdout",
          "text": [
            "Epoch 1/10\n",
            "1875/1875 [==============================] - 91s 47ms/step - loss: 0.3305 - accuracy: 0.8934 - val_loss: 0.1206 - val_accuracy: 0.9640\n",
            "Epoch 2/10\n",
            "1875/1875 [==============================] - 90s 48ms/step - loss: 0.1025 - accuracy: 0.9696 - val_loss: 0.0853 - val_accuracy: 0.9732\n",
            "Epoch 3/10\n",
            "1875/1875 [==============================] - 90s 48ms/step - loss: 0.0692 - accuracy: 0.9793 - val_loss: 0.0749 - val_accuracy: 0.9768\n",
            "Epoch 4/10\n",
            "1875/1875 [==============================] - 90s 48ms/step - loss: 0.0555 - accuracy: 0.9827 - val_loss: 0.0571 - val_accuracy: 0.9821\n",
            "Epoch 5/10\n",
            "1875/1875 [==============================] - 93s 50ms/step - loss: 0.0446 - accuracy: 0.9863 - val_loss: 0.0525 - val_accuracy: 0.9839\n",
            "Epoch 6/10\n",
            "1875/1875 [==============================] - 93s 49ms/step - loss: 0.0382 - accuracy: 0.9887 - val_loss: 0.0516 - val_accuracy: 0.9841\n",
            "Epoch 7/10\n",
            "1875/1875 [==============================] - 90s 48ms/step - loss: 0.0319 - accuracy: 0.9898 - val_loss: 0.0537 - val_accuracy: 0.9839\n",
            "Epoch 8/10\n",
            "1875/1875 [==============================] - 90s 48ms/step - loss: 0.0283 - accuracy: 0.9911 - val_loss: 0.0477 - val_accuracy: 0.9858\n",
            "Epoch 9/10\n",
            "1875/1875 [==============================] - 90s 48ms/step - loss: 0.0241 - accuracy: 0.9926 - val_loss: 0.0539 - val_accuracy: 0.9844\n",
            "Epoch 10/10\n",
            "1875/1875 [==============================] - 95s 51ms/step - loss: 0.0216 - accuracy: 0.9932 - val_loss: 0.0471 - val_accuracy: 0.9861\n"
          ]
        }
      ]
    },
    {
      "cell_type": "code",
      "source": [
        "plt.plot(r.history['loss'], label='loss')\n",
        "plt.plot(r.history['val_loss'], label='val_loss')\n",
        "plt.legend()\n",
        "plt.show()\n"
      ],
      "metadata": {
        "colab": {
          "base_uri": "https://localhost:8080/",
          "height": 265
        },
        "id": "z_NOEJ8d1mfb",
        "outputId": "36b370d9-7bc7-45c0-c2d8-df1e0d8fa7a2"
      },
      "execution_count": 30,
      "outputs": [
        {
          "output_type": "display_data",
          "data": {
            "text/plain": [
              "<Figure size 432x288 with 1 Axes>"
            ],
            "image/png": "[encoded data removed]"
          },
          "metadata": {
            "needs_background": "light"
          }
        }
      ]
    },
    {
      "cell_type": "code",
      "source": [
        "plt.plot(r.history['accuracy'], label='accuracy')\n",
        "plt.plot(r.history['val_accuracy'], label='val_accuracy')\n",
        "plt.legend()\n",
        "plt.show()\n"
      ],
      "metadata": {
        "colab": {
          "base_uri": "https://localhost:8080/",
          "height": 265
        },
        "id": "qkaKhzn31znl",
        "outputId": "56dd35d5-d2df-4467-ed5e-d3a4ec993913"
      },
      "execution_count": 31,
      "outputs": [
        {
          "output_type": "display_data",
          "data": {
            "text/plain": [
              "<Figure size 432x288 with 1 Axes>"
            ],
            "image/png": "[encoded data removed]"
          },
          "metadata": {
            "needs_background": "light"
          }
        }
      ]
    },
    {
      "cell_type": "markdown",
      "source": [
        "Conclusion: After just 10 epochs we get 99% accuracy. Thus, NN appears to generalize well. \n",
        "Note: Length of sequence = 28\n",
        "      long distance problem\n",
        "      "
      ],
      "metadata": {
        "id": "CqHQHgsr6-qV"
      }
    },
    {
      "cell_type": "code",
      "source": [
        "p_test = model.predict(x_test)\n",
        "p_test"
      ],
      "metadata": {
        "colab": {
          "base_uri": "https://localhost:8080/"
        },
        "id": "OOmNqJK99fzj",
        "outputId": "aa4a21ac-cea3-4619-ca29-c134b248a330"
      },
      "execution_count": 42,
      "outputs": [
        {
          "output_type": "stream",
          "name": "stdout",
          "text": [
            "313/313 [==============================] - 6s 18ms/step\n"
          ]
        },
        {
          "output_type": "execute_result",
          "data": {
            "text/plain": [
              "array([[1.9811557e-06, 4.4071762e-06, 4.6666182e-06, ..., 9.9994844e-01,\n",
              "        3.3804449e-07, 1.2400635e-05],\n",
              "       [8.9317285e-07, 5.5125824e-06, 9.9998397e-01, ..., 2.2711965e-06,\n",
              "        3.2287076e-06, 1.3413995e-08],\n",
              "       [5.9016943e-06, 9.9977756e-01, 1.6682243e-05, ..., 7.6607139e-05,\n",
              "        2.6088639e-05, 1.7753364e-05],\n",
              "       ...,\n",
              "       [5.7689613e-07, 8.0965647e-06, 3.4962616e-06, ..., 2.4127750e-05,\n",
              "        1.6870088e-05, 3.8608283e-05],\n",
              "       [1.0214477e-06, 3.3915470e-07, 6.9190855e-07, ..., 3.7895020e-07,\n",
              "        1.2215038e-04, 4.9475778e-07],\n",
              "       [2.1716645e-05, 4.4080211e-06, 5.3376443e-06, ..., 2.2797383e-07,\n",
              "        1.6753451e-05, 2.6119162e-07]], dtype=float32)"
            ]
          },
          "metadata": {},
          "execution_count": 42
        }
      ]
    },
    {
      "cell_type": "code",
      "source": [
        "p_test=p_test.argmax(axis=1)\n",
        "p_test"
      ],
      "metadata": {
        "colab": {
          "base_uri": "https://localhost:8080/"
        },
        "id": "enmkgeWW9y76",
        "outputId": "2ae840b7-5a89-4093-e34b-929c64f696f0"
      },
      "execution_count": 43,
      "outputs": [
        {
          "output_type": "execute_result",
          "data": {
            "text/plain": [
              "array([7, 2, 1, ..., 4, 5, 6])"
            ]
          },
          "metadata": {},
          "execution_count": 43
        }
      ]
    },
    {
      "cell_type": "markdown",
      "source": [
        "#Confusion Matrix"
      ],
      "metadata": {
        "id": "1vj8ReYi_K1c"
      }
    },
    {
      "cell_type": "code",
      "source": [
        "import seaborn as sn\n",
        "cm = tf.math.confusion_matrix(y_test,model.predict(x_test).argmax(axis=1))\n",
        "#.argmax(axis=1) is converting the output probabilities of the model into class predictions (i.e., selecting the class with the highest probability for each input).\n",
        "plt.figure(figsize=(10,7))\n",
        "sn.heatmap(cm,annot=True,fmt='d')\n",
        "plt.xlabel('predicted')\n",
        "plt.ylabel('true value')"
      ],
      "metadata": {
        "colab": {
          "base_uri": "https://localhost:8080/",
          "height": 477
        },
        "id": "-pLNDNUF7njT",
        "outputId": "bb7449cc-cce5-4f83-eb87-2d1ece9f65a1"
      },
      "execution_count": 34,
      "outputs": [
        {
          "output_type": "stream",
          "name": "stdout",
          "text": [
            "313/313 [==============================] - 6s 17ms/step\n"
          ]
        },
        {
          "output_type": "execute_result",
          "data": {
            "text/plain": [
              "Text(69.0, 0.5, 'true value')"
            ]
          },
          "metadata": {},
          "execution_count": 34
        },
        {
          "output_type": "display_data",
          "data": {
            "text/plain": [
              "<Figure size 720x504 with 2 Axes>"
            ],
            "image/png": "[encoded data removed]"
          },
          "metadata": {
            "needs_background": "light"
          }
        }
      ]
    },
    {
      "cell_type": "code",
      "source": [
        "#lets show some misclassified samples\n",
        "misclassified_idx = np.where(p_test != y_test)[0]\n",
        "i = np.random.choice(misclassified_idx)\n",
        "plt.imshow(x_test[i],cmap='gray')\n",
        "plt.title('True label: %s Predicted label: %s' %(y_test[i],p_test[i]));"
      ],
      "metadata": {
        "colab": {
          "base_uri": "https://localhost:8080/",
          "height": 281
        },
        "id": "AuWdkoNg-DY9",
        "outputId": "9241f46e-d978-4852-bd65-640e0bc3236e"
      },
      "execution_count": 40,
      "outputs": [
        {
          "output_type": "display_data",
          "data": {
            "text/plain": [
              "<Figure size 432x288 with 1 Axes>"
            ],
            "image/png": "[encoded data removed]"
          },
          "metadata": {
            "needs_background": "light"
          }
        }
      ]
    }
  ]
}